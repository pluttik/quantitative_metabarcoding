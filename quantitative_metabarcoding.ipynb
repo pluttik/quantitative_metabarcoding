{
 "cells": [
  {
   "cell_type": "markdown",
   "metadata": {},
   "source": [
    "Script for fish quantitative metabarcoding project<br>\n",
    "Pieternella Luttikhuizen, 2018"
   ]
  },
  {
   "cell_type": "code",
   "execution_count": null,
   "metadata": {},
   "outputs": [],
   "source": [
    "# only need to run this once\n",
    "import sys\n",
    "!{sys.executable} -m pip install matplotlib"
   ]
  },
  {
   "cell_type": "code",
   "execution_count": null,
   "metadata": {},
   "outputs": [],
   "source": [
    "import csv\n",
    "import matplotlib.pyplot as plt\n",
    "import matplotlib\n",
    "import numpy\n",
    "import math"
   ]
  },
  {
   "cell_type": "markdown",
   "metadata": {},
   "source": [
    "The code below is meant to make a graph of the numbers of fish caught per species."
   ]
  },
  {
   "cell_type": "code",
   "execution_count": null,
   "metadata": {},
   "outputs": [],
   "source": [
    "# data from NIOZ fike from 2017 to analyse quantities of fish caught per species\n",
    "with open('Species2017Week_fish_only.csv') as f:\n",
    "    reader = csv.reader(f)\n",
    "    headers = reader.__next__()\n",
    "    print('headers:', headers)\n",
    "    species = []\n",
    "    total_number = []\n",
    "    for row in f:\n",
    "        row = row.strip('\\n')\n",
    "        row = row.split(',')\n",
    "        species.append(row[0])\n",
    "        total_number.append(int(row[33]))\n",
    "log10number = [math.log10(x) for x in total_number]\n",
    "print(species,total_number,log10number)"
   ]
  },
  {
   "cell_type": "code",
   "execution_count": null,
   "metadata": {},
   "outputs": [],
   "source": [
    "y_pos = numpy.arange(len(species))\n",
    "\n",
    "# Create bars\n",
    "plt.bar(y_pos, log10number)\n",
    " \n",
    "# Create names on the x-axis\n",
    "plt.xticks(y_pos, species, rotation=90, size = 7)\n",
    "plt.ylabel('log10(number of fish)')\n",
    "\n",
    "# Custom the subplot layout\n",
    "#plt.subplots_adjust(bottom=0.4, top=0.99)\n",
    "\n",
    "# Add horizontal line\n",
    "plt.hlines(math.log10(30), 0, 45, linestyles='dotted')\n",
    "plt.text(40, 1.6, 'n=30', ha='left', va='center')\n",
    "\n",
    "# Show graphic\n",
    "plt.savefig('fish_numbers_2017.png', bbox_inches='tight')\n",
    "plt.show()"
   ]
  },
  {
   "cell_type": "code",
   "execution_count": null,
   "metadata": {},
   "outputs": [],
   "source": [
    "print(y_pos)"
   ]
  },
  {
   "cell_type": "markdown",
   "metadata": {},
   "source": [
    "The code below is used to <br>\n",
    "1) obtain the sequence data per species from boldsystems.org using their API<br>\n",
    "2) make a single fasta file containing all COI data for all species in the folder COI_data_boldsystems."
   ]
  },
  {
   "cell_type": "code",
   "execution_count": null,
   "metadata": {},
   "outputs": [],
   "source": [
    "# install package requests if you do not yet have it installed\n",
    "# only need to run this once\n",
    "import sys\n",
    "!{sys.executable} -m pip install requests"
   ]
  },
  {
   "cell_type": "code",
   "execution_count": null,
   "metadata": {},
   "outputs": [],
   "source": [
    "# read the list of species we are looking for from infile\n",
    "fish_species_names = []\n",
    "with open('COI_data_boldsystems/fish_species_names.txt') as f:\n",
    "    for line in f:\n",
    "        fish_species_names.append(line.strip())\n",
    "f.close()"
   ]
  },
  {
   "cell_type": "code",
   "execution_count": null,
   "metadata": {},
   "outputs": [],
   "source": [
    "# 1 obtain data via API\n",
    "import requests\n",
    "for fish_species in fish_species_names:\n",
    "    fish_species = fish_species.replace('_', '%20')\n",
    "    url = \"http://v3.boldsystems.org/index.php/API_Public/sequence?taxon=\" + fish_species\n",
    "    response = requests.get(url, allow_redirects=True)\n",
    "    print(fish_species, response.status_code)   \n",
    "    fish_species = fish_species.replace('%20', '_')\n",
    "    outfile_name = 'COI_data_boldsystems/' + fish_species + '.fas'\n",
    "    outfile = open(outfile_name, 'wb')\n",
    "    outfile.write(response.content)\n",
    "    outfile.close()"
   ]
  },
  {
   "cell_type": "code",
   "execution_count": null,
   "metadata": {},
   "outputs": [],
   "source": [
    "# 2 make single fasta file and filter out sequences that are not COI-5P\n",
    "full_fasta_data = ''\n",
    "line_counter = 0    # add number to allow Clustalw2 to run (restricts sequence identifiers to 30 characters)\n",
    "COI_tracker = False\n",
    "for fish_species in fish_species_names:\n",
    "    file_name = fish_species + '.fas'\n",
    "    try:\n",
    "        with open('COI_data_boldsystems/' + file_name) as f:\n",
    "            for line in f:\n",
    "                if line[0] == '>':    # new sequence name\n",
    "                    if 'COI-5P' in line:\n",
    "                        full_fasta_data += line[0] + str(line_counter) + line[1:]\n",
    "                        line_counter += 1\n",
    "                        COI_tracker = True\n",
    "                    else:\n",
    "                        COI_tracker = False\n",
    "                else:\n",
    "                    if COI_tracker:\n",
    "                        full_fasta_data += line    # new sequence DNA string, add only if COI-5P\n",
    "                        COI_tracker = False\n",
    "        f.close()\n",
    "    except:\n",
    "        print('species ' + fish_species + ' not found')\n",
    "\n",
    "outfile_full_fasta_data = open('COI_data_boldsystems/full_fasta_data.fas','w')\n",
    "outfile_full_fasta_data.write(full_fasta_data)\n",
    "outfile_full_fasta_data.close()\n",
    "print (full_fasta_data)    # this yields a total of 2746 sequences on 4 Oct 2018"
   ]
  },
  {
   "cell_type": "code",
   "execution_count": null,
   "metadata": {},
   "outputs": [],
   "source": [
    "import sys\n",
    "!{sys.executable} -m pip install biopython"
   ]
  },
  {
   "cell_type": "code",
   "execution_count": null,
   "metadata": {},
   "outputs": [],
   "source": [
    "# quick check that sequences look ok\n",
    "from Bio import SeqIO\n",
    "for seq_record in SeqIO.parse('COI_data_boldsystems/full_fasta_data.fas', 'fasta'):\n",
    "    print(seq_record.id)\n",
    "    print(repr(seq_record.seq))\n",
    "    print(len(seq_record))"
   ]
  },
  {
   "cell_type": "code",
   "execution_count": null,
   "metadata": {},
   "outputs": [],
   "source": [
    "# produce command line for Clustalw2\n",
    "from Bio.Align.Applications import ClustalwCommandline\n",
    "cline = ClustalwCommandline(\"clustalw2\", infile='full_fasta_data.fas')\n",
    "print(cline)    #run the line printed below in terminal, make sure you have Clustalw2 installed and it is in your path\n",
    "# on Linux it is possible to run the command line from Jupyter directly, as follows:\n",
    "#![command line]"
   ]
  },
  {
   "cell_type": "code",
   "execution_count": null,
   "metadata": {},
   "outputs": [],
   "source": [
    "from Bio import AlignIO\n",
    "align = AlignIO.read(\"COI_data_boldsystems/mini_fasta_data.aln\", \"clustal\")\n",
    "print(align)"
   ]
  },
  {
   "cell_type": "code",
   "execution_count": null,
   "metadata": {},
   "outputs": [],
   "source": []
  }
 ],
 "metadata": {
  "kernelspec": {
   "display_name": "Python 3",
   "language": "python",
   "name": "python3"
  },
  "language_info": {
   "codemirror_mode": {
    "name": "ipython",
    "version": 3
   },
   "file_extension": ".py",
   "mimetype": "text/x-python",
   "name": "python",
   "nbconvert_exporter": "python",
   "pygments_lexer": "ipython3",
   "version": "3.6.1"
  }
 },
 "nbformat": 4,
 "nbformat_minor": 2
}
